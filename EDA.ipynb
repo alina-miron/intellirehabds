{
 "cells": [
  {
   "cell_type": "markdown",
   "metadata": {
    "collapsed": true,
    "pycharm": {
     "name": "#%% md\n",
     "is_executing": false
    }
   },
   "source": [
    "# This notebook will analyse the IntelliRehabDS dataset\n",
    "\n",
    "## <span style=\"color:blue\">Load the dataset</span>."
   ]
  },
  {
   "cell_type": "code",
   "execution_count": 1,
   "outputs": [],
   "source": [
    "import sys\n",
    "import numpy as np\n",
    "import pandas as pd\n",
    "import matplotlib.pyplot as plt\n",
    "import seaborn as sns\n",
    "import matplotlib\n",
    "from mpl_toolkits.mplot3d import Axes3D\n",
    "matplotlib.use('TkAgg')\n",
    "\n",
    "\n",
    "sys.path.append('/Users/alina/Documents/Work/SourceCode/intellireahabds/')\n",
    "\n",
    "import dataio.process_skeleton as sk\n",
    "from configs import config_seamer as cf\n"
   ],
   "metadata": {
    "collapsed": false,
    "pycharm": {
     "name": "#%%\n",
     "is_executing": false
    }
   }
  },
  {
   "cell_type": "code",
   "execution_count": 4,
   "outputs": [
    {
     "name": "stdout",
     "text": [
      "Path to data is /Users/alina/Desktop/Perkeso/FinalSkeletonDatasetV2.0/RawData/\nParsing files\n",
      "Number of ignored files 12\n"
     ],
     "output_type": "stream"
    }
   ],
   "source": [
    "#Load the data\n",
    "print(\"Path to data is\", cf.path_dataset)\n",
    "data, data_info, file_names = sk.process_files(cf.path_dataset)\n"
   ],
   "metadata": {
    "collapsed": false,
    "pycharm": {
     "name": "#%%\n",
     "is_executing": false
    }
   }
  },
  {
   "cell_type": "markdown",
   "source": [
    "## General data statistics"
   ],
   "metadata": {
    "collapsed": false
   }
  },
  {
   "cell_type": "code",
   "execution_count": null,
   "outputs": [],
   "source": [
    "number_examples = len(data)\n",
    "print(\"Total number of considered gestures\", len(data))\n",
    "sk.data_stats(data, data_info)\n",
    "\n",
    "d = {'correctness': [True]* number_examples, \n",
    "     'date': np.zeros([number_examples]), \n",
    "     'gesture_type': [\"\"]* number_examples, \n",
    "     'patient_id': [\"\"]* number_examples, \n",
    "     'position': [\"\"]* number_examples, \n",
    "     'repetition_number': np.zeros([number_examples]),\n",
    "     'length': np.zeros([number_examples])\n",
    "     }\n",
    "\n",
    "for i in range(number_examples):\n",
    "    d['correctness'][i] = (data_info[i].correct == \"1\")\n",
    "    d['date'][i] = int(data_info[i].date)\n",
    "    d['gesture_type'][i] = data_info[i].gesture_type\n",
    "    d['patient_id'][i] = data_info[i].patient_id\n",
    "    d['position'][i] = data_info[i].position\n",
    "    d['repetition_number'][i] = data_info[i].repetition\n",
    "    d['length'][i] = data[i].shape[0]\n",
    "            \n",
    "df = pd.DataFrame(data=d)\n"
   ],
   "metadata": {
    "collapsed": false,
    "pycharm": {
     "name": "#%%\n",
     "is_executing": false
    }
   }
  },
  {
   "cell_type": "code",
   "execution_count": null,
   "outputs": [],
   "source": [
    "len(df[df['correctness']==False][df['length']>383])\n",
    "\n"
   ],
   "metadata": {
    "collapsed": false,
    "pycharm": {
     "name": "#%% \n",
     "is_executing": false
    }
   }
  },
  {
   "cell_type": "markdown",
   "source": [
    "## Draw correct vs incorrect length\n",
    "\n",
    "\n"
   ],
   "metadata": {
    "collapsed": false,
    "pycharm": {
     "name": "#%% md\n"
    }
   }
  },
  {
   "cell_type": "code",
   "execution_count": null,
   "outputs": [],
   "source": [
    "%matplotlib inline\n",
    "print(\"Basic information about the length of the sequences\")\n",
    "print(df['length'].describe())\n",
    "# \n",
    "plt.plot(range(df.shape[0]), np.sort(df['length'].values))\n",
    "plt.xlabel('index')\n",
    "plt.ylabel('Gesture length')\n",
    "plt.title(\"Sequence length distribution\")\n",
    "sns.despine()\n",
    "\n"
   ],
   "metadata": {
    "collapsed": false,
    "pycharm": {
     "name": "#%%\n",
     "is_executing": false
    }
   }
  },
  {
   "cell_type": "code",
   "execution_count": null,
   "outputs": [],
   "source": [
    "sns.violinplot(x=\"correctness\",y=\"length\",data=df)"
   ],
   "metadata": {
    "collapsed": false,
    "pycharm": {
     "name": "#%%\n",
     "is_executing": false
    }
   }
  },
  {
   "cell_type": "code",
   "execution_count": null,
   "outputs": [],
   "source": [
    "ax_cl = sns.swarmplot(x=\"correctness\",y=\"length\",data=df, size=1)\n",
    "ax_cl.set(xlabel='Is gesture correct?',ylabel='Gesture length')\n",
    "plt.savefig(cf.path_output+\"Correct_vs_Length.pdf\")\n",
    "\n"
   ],
   "metadata": {
    "collapsed": false,
    "pycharm": {
     "name": "#%%\n",
     "is_executing": false
    }
   }
  },
  {
   "cell_type": "code",
   "execution_count": null,
   "outputs": [],
   "source": [
    "# Define a scatterplot function\n",
    "def scatterplot(x_data, y_data, x_label=\"\", y_label=\"\", title=\"\", color = \"r\", yscale_log=False):\n",
    "\n",
    "    # Create the plot object\n",
    "    _, ax = plt.subplots()\n",
    "\n",
    "    # Plot the data, set the size (s), color and transparency (alpha)\n",
    "    # of the points\n",
    "    ax.scatter(x_data, y_data, s = 10, color = color, alpha = 0.75)\n",
    "\n",
    "    if yscale_log == True:\n",
    "        ax.set_yscale('log')\n",
    "\n",
    "    # Label the axes and provide a title\n",
    "    ax.set_title(title)\n",
    "    ax.set_xlabel(x_label)\n",
    "    ax.set_ylabel(y_label)\n",
    "    \n",
    "#%\n",
    "print(len(df[df['correctness']==True]))\n",
    "print(len(df[df['correctness']==False]))\n",
    "scatterplot(df['length'], df['correctness'])\n",
    "#sns.distplot(df['length'], color='g', bins=100, hist_kws={'alpha': 0.4});\n",
    "\n"
   ],
   "metadata": {
    "collapsed": false,
    "pycharm": {
     "name": "#%%\n",
     "is_executing": false
    }
   }
  },
  {
   "cell_type": "markdown",
   "source": [
    "## Average length correct/incorrect per gesture\n"
   ],
   "metadata": {
    "collapsed": false,
    "pycharm": {
     "name": "#%% md\n"
    }
   }
  },
  {
   "cell_type": "code",
   "execution_count": null,
   "outputs": [],
   "source": [
    "ax = sns.swarmplot(x=\"gesture_type\",y=\"length\",hue=\"correctness\",data=df, size = 1.4)\n",
    "ax.set(xlabel='Gesture label',ylabel='Gesture length')\n",
    "plt.savefig(cf.path_output+\"Correct_vs_Length_per_gesture.pdf\")\n"
   ],
   "metadata": {
    "collapsed": false,
    "pycharm": {
     "name": "#%%\n",
     "is_executing": false
    }
   }
  },
  {
   "cell_type": "code",
   "execution_count": null,
   "outputs": [],
   "source": [
    "print(df.groupby(['gesture_type','correctness'])['length']. mean())\n"
   ],
   "metadata": {
    "collapsed": false,
    "pycharm": {
     "name": "#%%\n",
     "is_executing": false
    }
   }
  },
  {
   "cell_type": "markdown",
   "source": [
    "\n",
    "## Posture analysis\n",
    "\n",
    "### What is the posture distribution?"
   ],
   "metadata": {
    "collapsed": false,
    "pycharm": {
     "name": "#%% md\n"
    }
   }
  },
  {
   "cell_type": "code",
   "execution_count": null,
   "outputs": [],
   "source": [
    "import pandas as pd\n",
    "s = pd.Series(df['position'])\n",
    "s.value_counts()/len(df)\n"
   ],
   "metadata": {
    "collapsed": false,
    "pycharm": {
     "name": "#%%\n",
     "is_executing": false
    }
   }
  },
  {
   "cell_type": "markdown",
   "source": [
    "### What is the posture distribution for healthy vs patients?"
   ],
   "metadata": {
    "collapsed": false,
    "pycharm": {
     "name": "#%% md\n"
    }
   }
  },
  {
   "cell_type": "code",
   "execution_count": null,
   "outputs": [],
   "source": [
    "df['Patient'] = df['patient_id'].str.startswith('2')\n"
   ],
   "metadata": {
    "collapsed": false,
    "pycharm": {
     "name": "#%%\n",
     "is_executing": false
    }
   }
  },
  {
   "cell_type": "code",
   "execution_count": null,
   "outputs": [],
   "source": [
    "print(\"================Healty================\")\n",
    "s_healty = pd.Series(df[df['Patient']==False]['position'])\n",
    "print(len(s_healty))\n",
    "print(s_healty.value_counts())\n",
    "print(s_healty.value_counts()/len(s_healty))\n",
    "print(\"================Patients===============\")\n",
    "s_patient = pd.Series(df[df['Patient']==True]['position'])\n",
    "print(len(s_patient))\n",
    "print(s_patient.value_counts())\n",
    "print(s_patient.value_counts()/len(s_patient))\n"
   ],
   "metadata": {
    "collapsed": false,
    "pycharm": {
     "name": "#%%\n",
     "is_executing": false
    }
   }
  },
  {
   "cell_type": "markdown",
   "source": [
    "## Heat map with number of repetitions per patient\n"
   ],
   "metadata": {
    "collapsed": false,
    "pycharm": {
     "name": "#%% md\n"
    }
   }
  },
  {
   "cell_type": "code",
   "execution_count": null,
   "outputs": [],
   "source": [
    "subjects_ids = df['patient_id'].unique()\n",
    "gestures_ids = df['gesture_type'].unique()\n",
    "\n",
    "heat_map = np.zeros((len(gestures_ids),len(subjects_ids)))\n",
    "heat_map_incorrect = np.zeros((len(gestures_ids),len(subjects_ids)))\n",
    "for idx_s in range(len(subjects_ids)):\n",
    "    for idx_g in range(len(gestures_ids)):\n",
    "        heat_map[idx_g][idx_s]= len(df[(df['patient_id']==subjects_ids[idx_s]) & (df['gesture_type']==gestures_ids[idx_g])])\n",
    "        heat_map_incorrect[idx_g][idx_s]= len(df[(df['patient_id']==subjects_ids[idx_s]) & \n",
    "                                       (df['gesture_type']==gestures_ids[idx_g]) &\n",
    "                                       (df['correctness']==False)])\n",
    "        \n",
    "print(heat_map)\n",
    "print(subjects_ids)\n",
    "\n",
    "# plt.imshow(heat_map, cmap='hot', interpolation='nearest')\n",
    "# plt.show()\n",
    "plt.figure(figsize=(12, 5))\n",
    "sns.heatmap(heat_map, linewidth=0.7, cmap=\"BuPu\", vmin = 0,  xticklabels=subjects_ids, square=False)\n",
    "#plt.savefig(cf.path_output+\"HeatMapGestures.pdf\")\n",
    "plt.show()\n",
    "\n",
    "plt.figure(figsize=(12, 5))\n",
    "sns.heatmap(heat_map_incorrect, linewidth=0.7, cmap=\"BuPu\", vmin = 0,  xticklabels=subjects_ids, square=False)\n",
    "# plt.savefig(cf.path_output+\"HeatMapGesturesIncorrect.pdf\")\n",
    "plt.show()\n",
    "\n",
    "\n",
    "# count number of repetitions per gesture\n",
    "sum_incorrect = 0\n",
    "for idx_g in range(len(gestures_ids)):\n",
    "    g_correct = len(df[(df['gesture_type']==gestures_ids[idx_g]) & (df['correctness']==True)])\n",
    "    g_incorrect = len(df[(df['gesture_type']==gestures_ids[idx_g]) & (df['correctness']==False)])\n",
    "                                        \n",
    "    sum_incorrect += g_incorrect                           \n",
    "    print(gestures_ids[idx_g],\n",
    "          g_correct,\n",
    "          g_incorrect)\n",
    "    \n",
    "print(sum_incorrect, len(df))\n",
    "\n",
    "# count number of repetitions per gesture where patient\n",
    "sum_incorrect = 0\n",
    "for idx_g in range(len(gestures_ids)):\n",
    "    g_correct = len(df[(df['gesture_type']==gestures_ids[idx_g]) \n",
    "                       & (df['correctness']==True)\n",
    "                       & (df['Patient']==True)])\n",
    "    g_incorrect = len(df[(df['gesture_type']==gestures_ids[idx_g]) \n",
    "                         & (df['correctness']==False)\n",
    "                        & (df['Patient']==True)])\n",
    "                                        \n",
    "    sum_incorrect += g_incorrect                           \n",
    "    print(gestures_ids[idx_g],\n",
    "          g_correct,\n",
    "          g_incorrect)\n",
    "    \n",
    "print(sum_incorrect, len(df))\n",
    "\n",
    "# count number of incorrect repetitions per patient\n",
    "print(\"count number of incorrect repetitions per patient\")\n",
    "sum_incorrect = 0\n",
    "data_inccorect_exec = []\n",
    "for idx_s in range(len(subjects_ids)):\n",
    "    g_correct = len(df[(df['patient_id']==subjects_ids[idx_s]) \n",
    "                       & (df['correctness']==True)])\n",
    "    g_incorrect = len(df[(df['patient_id']==subjects_ids[idx_s]) \n",
    "                         & (df['correctness']==False)])\n",
    "                                        \n",
    "    sum_incorrect += g_incorrect                           \n",
    "    print(subjects_ids[idx_s],\n",
    "          g_correct,\n",
    "          g_incorrect)\n",
    "    data_inccorect_exec.append(g_incorrect)\n",
    "    \n",
    "print(sum_incorrect, len(df))\n",
    "\n",
    "plt.figure(figsize=(12, 5))\n",
    "sns.boxplot(subjects_ids, data_inccorect_exec)\n",
    "plt.show()\n",
    "\n",
    "    "
   ],
   "metadata": {
    "collapsed": false,
    "pycharm": {
     "name": "#%%\n",
     "is_executing": false
    }
   }
  },
  {
   "cell_type": "markdown",
   "source": [
    "## Simple Classifiers\n",
    "### Simple threshold classifier\n"
   ],
   "metadata": {
    "collapsed": false
   }
  },
  {
   "cell_type": "code",
   "execution_count": null,
   "outputs": [],
   "source": [
    "sk.simple_threshold_classifier(data,data_info, threshold=150)\n",
    "\n"
   ],
   "metadata": {
    "collapsed": false,
    "pycharm": {
     "name": "#%% \n",
     "is_executing": false
    }
   }
  },
  {
   "cell_type": "markdown",
   "source": [
    "## Gesture visualization\n",
    "### #D gesture visualisation\n"
   ],
   "metadata": {
    "collapsed": false
   }
  },
  {
   "cell_type": "code",
   "execution_count": null,
   "outputs": [],
   "source": [
    "def normalize_gesture(gesture):\n",
    "    norm_x = gesture[0][0]\n",
    "    norm_y = gesture[0][1]\n",
    "    norm_z = gesture[0][2]\n",
    "    for idx_gesture in range(len(gesture)):\n",
    "        idx_joint = 0\n",
    "        while idx_joint < len(gesture[0]):\n",
    "            gesture[idx_gesture][idx_joint] -= norm_x\n",
    "            gesture[idx_gesture][idx_joint+1] -= norm_y\n",
    "            gesture[idx_gesture][idx_joint+2] -= norm_z\n",
    "            idx_joint += 3\n",
    "        idx_gesture += 1\n",
    "    return gesture\n",
    "\n",
    "\n"
   ],
   "metadata": {
    "collapsed": false,
    "pycharm": {
     "name": "#%%\n",
     "is_executing": false
    }
   }
  },
  {
   "cell_type": "code",
   "execution_count": null,
   "outputs": [],
   "source": [
    "def set_ax_limit_skeleton(ax1):\n",
    "    ax1.clear()\n",
    "    ax1.set_xlabel('X')\n",
    "    ax1.set_xlim(-0.5, 0.5)\n",
    "    ax1.set_ylabel('Y')\n",
    "    ax1.set_ylim(-1, 1)\n",
    "    ax1.set_zlabel('Z')\n",
    "    ax1.set_zlim(0, 2)\n",
    "\n",
    "def draw_beautiful_skeleton(gesture_data, output_image):\n",
    "\n",
    "    matplotlib.rcParams.update({'font.size': 6})\n",
    "    fig = plt.figure(dpi=200, figsize=(6, 7))#figsize=(50, 50))\n",
    "    ax1 = fig.gca(projection='3d')\n",
    "    idx = 0\n",
    "\n",
    "    ax1.view_init(elev=90., azim=-90)\n",
    "    ax1.set_facecolor('white')\n",
    "\n",
    "    joint_names = [\"SpineBase\", \"SpineMid\", \"Neck\", \"Head\", \"ShoulderLeft\", \"ElbowLeft\",\n",
    "                   \"WristLeft\", \"HandLeft\", \"ShoulderRight\", \"ElbowRight\", \"WristRight\",\n",
    "                   \"HandRight\", \"HipLeft\", \"KneeLeft\", \"AnkleLeft\", \"FootLeft\",\n",
    "                   \"HipRight\",  \"KneeRight\", \"AnkleRight\", \"FootRight\", \"SpineShoulder\",\n",
    "                   \"HandTipLeft\", \"ThumbLeft\", \"HandTipRight\", \"ThumbRight\"]\n",
    "\n",
    "    # (10, 11) (wristRight, HandRight)\n",
    "    # (11, 23) (handright, handtipright), (handRight, thumbright)\n",
    "    # connectivity = [(0, 1), (1, 20), (20, 2), (2, 3), (20, 8), (8, 9), (9, 10), (10, 11), (11, 24), (11, 23),\n",
    "    #                 (20, 4), (4, 5), (5, 6), (6, 7), (7, 22), (7, 21), (0, 16), (16, 17), (17, 18), (18, 19), (0, 12),\n",
    "    #                 (12, 13), (13, 14), (14, 15)]\n",
    "\n",
    "    # Ignore hand joints\n",
    "    connectivity = [(0, 1), (1, 20), (20, 2), (2, 3), (20, 8), (8, 9), (9, 10), (10, 11), \n",
    "                    (20, 4), (4, 5), (5, 6), (6, 7), (0, 16), (16, 17), (17, 18), (18, 19), (0, 12),\n",
    "                    (12, 13), (13, 14), (14, 15)]\n",
    "\n",
    "    set_ax_limit_skeleton(ax1)\n",
    "\n",
    "    fig.tight_layout()\n",
    "    # for skeleton in [gesture_data[0], gesture_data[10], gesture_data[20]]:\n",
    "    idx_frame = 0\n",
    "    downsample = 1 #2\n",
    "    colors_palette = sns.color_palette(\"PiYG\", int(len(gesture_data)/downsample))\n",
    "    print(colors_palette)\n",
    "    for skeleton in gesture_data:\n",
    "        idx_frame += 1\n",
    "        # fig.subplots_adjust(left=-0.2, bottom=-0.1)\n",
    "        if idx_frame % downsample != 0:\n",
    "            continue\n",
    "\n",
    "        # plot_joints(ax1, skeleton)\n",
    "        idx_joint = 0\n",
    "        joints_size = len(skeleton) - 3*4 # ignore last 4 joints corresponding to hands tip\n",
    "        while idx_joint < joints_size:\n",
    "            ax1.scatter(skeleton[idx_joint], skeleton[idx_joint+1], skeleton[idx_joint+2], s=1.5, c=colors_palette[idx])#c=np.random.rand(3,))#c==\"red\")\n",
    "            idx_joint += 3\n",
    "        for connection in connectivity:\n",
    "            # plot_joint_connections(ax1, connection, joint_names, skeleton)\n",
    "            joint_info1 = [0]*3\n",
    "            joint_info1[0] = skeleton[connection[0]*3]\n",
    "            joint_info1[1] = skeleton[connection[0]*3+1]\n",
    "            joint_info1[2] = skeleton[connection[0]*3+2]\n",
    "            joint_info2 = skeleton[connection[1]*3:(connection[1]*3+3)]\n",
    "            ax1.plot([joint_info1[0], joint_info2[0]],\n",
    "                     [joint_info1[1], joint_info2[1]],\n",
    "                     [joint_info1[2], joint_info2[2]], linewidth=1.0, solid_capstyle='round', \n",
    "                     c=colors_palette[idx])\n",
    "        # out_image = output_folder + str(idx) + \".png\"\n",
    "        # fig.savefig(out_image, bbox_inches='tight', dpi=300)\n",
    "        # files_images.append(out_image)\n",
    "        idx += 1\n",
    "        \n",
    "    plt.gca().set_axis_off()\n",
    "    plt.subplots_adjust(top = 1, bottom = 0, right = 1, left = 0, \n",
    "            hspace = 0, wspace = 0)\n",
    "    plt.margins(0,0)\n",
    "    plt.gca().xaxis.set_major_locator(plt.NullLocator())\n",
    "    plt.gca().yaxis.set_major_locator(plt.NullLocator())\n",
    "    plt.gca().zaxis.set_major_locator(plt.NullLocator())\n",
    "    fig.savefig(output_image, bbox_inches='tight', dpi=300)\n",
    "    plt.show()\n",
    "    \n",
    "    #toMovie(output_folder, files_images, \"skeleton.gif\")\n",
    "\n"
   ],
   "metadata": {
    "collapsed": false,
    "pycharm": {
     "name": "#%% \n",
     "is_executing": false
    }
   }
  },
  {
   "cell_type": "code",
   "execution_count": null,
   "outputs": [],
   "source": [
    "# Select gesture\n",
    "# correct gesture index: 25, 131, 241, 416, 2389, 2127, 1841, 2503\n",
    "# incorrect 1207, 1506, 1786, 1664, 757, 995\n",
    "index_gesture = 995\n",
    "gesture = data[index_gesture]\n",
    "print(\"processing gesture:\", index_gesture, file_names[index_gesture])\n",
    "data_info[index_gesture].print()\n",
    "# Normalize gesture\n",
    "gesture = normalize_gesture(gesture)\n",
    "# Draw skeleton \n",
    "print(cf.path_output+file_names[index_gesture]+\".pdf\")\n",
    "draw_beautiful_skeleton(gesture,cf.path_output+file_names[index_gesture]+\".pdf\")\n",
    "\n"
   ],
   "metadata": {
    "collapsed": false,
    "pycharm": {
     "name": "#%%\n",
     "is_executing": false
    }
   }
  },
  {
   "cell_type": "code",
   "execution_count": null,
   "outputs": [],
   "source": [
    "#find incorrect gesture\n",
    "idx = 0\n",
    "for d in data_info:\n",
    "    if d.correct == \"2\" and d.gesture_type == \"2\":\n",
    "        print(idx, file_names[idx])\n",
    "    idx += 1\n"
   ],
   "metadata": {
    "collapsed": false,
    "pycharm": {
     "name": "#%% \n",
     "is_executing": false
    }
   }
  },
  {
   "cell_type": "code",
   "execution_count": null,
   "outputs": [],
   "source": [
    "#find incorrect gesture\n",
    "idx = 0\n",
    "for d in data_info:\n",
    "    if d.correct == \"1\" and d.gesture_type == \"2\":\n",
    "        print(idx, file_names[idx])\n",
    "    idx += 1\n",
    "        \n",
    "        \n"
   ],
   "metadata": {
    "collapsed": false,
    "pycharm": {
     "name": "#%% \n",
     "is_executing": false
    }
   }
  },
  {
   "cell_type": "code",
   "execution_count": null,
   "outputs": [],
   "source": [
    "print(gesture[1])"
   ],
   "metadata": {
    "collapsed": false,
    "pycharm": {
     "name": "#%%\n",
     "is_executing": false
    }
   }
  },
  {
   "cell_type": "code",
   "execution_count": null,
   "outputs": [],
   "source": [
    "\n"
   ],
   "metadata": {
    "collapsed": false,
    "pycharm": {
     "name": "#%%\n",
     "is_executing": false
    }
   }
  }
 ],
 "metadata": {
  "language_info": {
   "codemirror_mode": {
    "name": "ipython",
    "version": 2
   },
   "file_extension": ".py",
   "mimetype": "text/x-python",
   "name": "python",
   "nbconvert_exporter": "python",
   "pygments_lexer": "ipython2",
   "version": "2.7.6"
  },
  "kernelspec": {
   "name": "python3",
   "language": "python",
   "display_name": "Python 3"
  },
  "pycharm": {
   "stem_cell": {
    "cell_type": "raw",
    "source": [],
    "metadata": {
     "collapsed": false
    }
   }
  }
 },
 "nbformat": 4,
 "nbformat_minor": 0
}